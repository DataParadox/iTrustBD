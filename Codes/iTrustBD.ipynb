{
  "nbformat": 4,
  "nbformat_minor": 0,
  "metadata": {
    "colab": {
      "provenance": [],
      "authorship_tag": "ABX9TyMOcy4Yn1Dz74z2J5W93ZGo",
      "include_colab_link": true
    },
    "kernelspec": {
      "name": "python3",
      "display_name": "Python 3"
    },
    "language_info": {
      "name": "python"
    }
  },
  "cells": [
    {
      "cell_type": "markdown",
      "metadata": {
        "id": "view-in-github",
        "colab_type": "text"
      },
      "source": [
        "<a href=\"https://colab.research.google.com/github/DataParadox/iTrustBD/blob/main/Codes/iTrustBD.ipynb\" target=\"_parent\"><img src=\"https://colab.research.google.com/assets/colab-badge.svg\" alt=\"Open In Colab\"/></a>"
      ]
    },
    {
      "cell_type": "markdown",
      "source": [
        "# Clone Project from GitHub and Connect to Google Drive"
      ],
      "metadata": {
        "id": "jQdSctx6OvSB"
      }
    },
    {
      "cell_type": "code",
      "execution_count": 1,
      "metadata": {
        "id": "UT2pS4WmEW5t",
        "colab": {
          "base_uri": "https://localhost:8080/"
        },
        "outputId": "38ceeb76-9149-43c2-fd82-1e779e803151"
      },
      "outputs": [
        {
          "output_type": "stream",
          "name": "stdout",
          "text": [
            "Mounted at /content/drive\n"
          ]
        }
      ],
      "source": [
        "from google.colab import drive\n",
        "drive.mount('/content/drive')"
      ]
    },
    {
      "cell_type": "code",
      "source": [
        "%cd '/content/drive/My Drive/PG/CSE6413 Network Science/Project Works/'"
      ],
      "metadata": {
        "id": "Kxvr2OftGKD9",
        "colab": {
          "base_uri": "https://localhost:8080/"
        },
        "outputId": "64ed4f32-2452-4851-9630-c4134301c3c7"
      },
      "execution_count": 2,
      "outputs": [
        {
          "output_type": "stream",
          "name": "stdout",
          "text": [
            "/content/drive/My Drive/PG/CSE6413 Network Science/Project Works\n"
          ]
        }
      ]
    },
    {
      "cell_type": "code",
      "source": [
        "!git clone 'https://github.com/DataParadox/iTrustBD.git'"
      ],
      "metadata": {
        "id": "tVBntyckGdcf"
      },
      "execution_count": null,
      "outputs": []
    },
    {
      "cell_type": "code",
      "source": [
        "%cd iTrustBD"
      ],
      "metadata": {
        "id": "2VPKOL34HQQv",
        "colab": {
          "base_uri": "https://localhost:8080/"
        },
        "outputId": "4b38601a-5e26-4c1a-80f0-bc123f8773bf"
      },
      "execution_count": 3,
      "outputs": [
        {
          "output_type": "stream",
          "name": "stdout",
          "text": [
            "/content/drive/My Drive/PG/CSE6413 Network Science/Project Works/iTrustBD\n"
          ]
        }
      ]
    },
    {
      "cell_type": "code",
      "source": [
        "!git pull"
      ],
      "metadata": {
        "colab": {
          "base_uri": "https://localhost:8080/"
        },
        "id": "kvDZWOQQ72xE",
        "outputId": "a92fb2d1-499b-4ca2-90cb-e281b02f5e2a"
      },
      "execution_count": 4,
      "outputs": [
        {
          "output_type": "stream",
          "name": "stdout",
          "text": [
            "remote: Enumerating objects: 7, done.\u001b[K\n",
            "remote: Counting objects:  14% (1/7)\u001b[K\rremote: Counting objects:  28% (2/7)\u001b[K\rremote: Counting objects:  42% (3/7)\u001b[K\rremote: Counting objects:  57% (4/7)\u001b[K\rremote: Counting objects:  71% (5/7)\u001b[K\rremote: Counting objects:  85% (6/7)\u001b[K\rremote: Counting objects: 100% (7/7)\u001b[K\rremote: Counting objects: 100% (7/7), done.\u001b[K\n",
            "remote: Compressing objects:  33% (1/3)\u001b[K\rremote: Compressing objects:  66% (2/3)\u001b[K\rremote: Compressing objects: 100% (3/3)\u001b[K\rremote: Compressing objects: 100% (3/3), done.\u001b[K\n",
            "remote: Total 4 (delta 1), reused 0 (delta 0), pack-reused 0\u001b[K\n",
            "Unpacking objects: 100% (4/4), done.\n",
            "From https://github.com/DataParadox/iTrustBD\n",
            "   d7522f9..72b4f91  main       -> origin/main\n",
            "Updating d7522f9..72b4f91\n",
            "Fast-forward\n",
            " Codes/iTrustBD.ipynb | 859 \u001b[32m+++++++++++++++++++++++++++++++++++++++++++++\u001b[m\u001b[31m------\u001b[m\n",
            " 1 file changed, 761 insertions(+), 98 deletions(-)\n"
          ]
        }
      ]
    },
    {
      "cell_type": "markdown",
      "source": [
        "# Set Datasets"
      ],
      "metadata": {
        "id": "xTabGOXrOBxd"
      }
    },
    {
      "cell_type": "code",
      "source": [
        "def setDatasets(dataset):           # dataset -> Name of the dataset, i.e. 'soc-sign-bitcoinalpha-dataset' \n",
        "  import pandas as pd\n",
        "  \n",
        "  nodeTable = pd.read_csv('./BTC-Alpha/'+dataset+'-nodes-table.csv')\n",
        "  edgeTable = pd.read_csv('./BTC-Alpha/'+dataset+'-edge-table.csv')\n",
        "\n",
        "  return nodeTable, edgeTable\n",
        "\n",
        "\n",
        "dataset = 'soc-sign-bitcoinalpha-dataset'\n",
        "nodeTable, edgeTable = setDatasets(dataset)"
      ],
      "metadata": {
        "id": "buizkBgvOBEp"
      },
      "execution_count": 5,
      "outputs": []
    },
    {
      "cell_type": "code",
      "source": [
        "nodeTable['behavior'] = nodeTable['Class']\n",
        "nodeTable"
      ],
      "metadata": {
        "colab": {
          "base_uri": "https://localhost:8080/",
          "height": 505
        },
        "id": "ys1aterv9yWG",
        "outputId": "983512b2-6a4b-406a-a2bd-11c6db64b611"
      },
      "execution_count": 6,
      "outputs": [
        {
          "output_type": "execute_result",
          "data": {
            "text/plain": [
              "        Id  Class  timeset  indegree  outdegree  Degree  weighted indegree  \\\n",
              "0     7604     -1      NaN        73         21      94               -628   \n",
              "1     5342     -1      NaN        39         80     119                  0   \n",
              "2     7602     -1      NaN        17         13      30               -150   \n",
              "3     7594     -1      NaN         8          6      14                -61   \n",
              "4      708     -1      NaN         7         24      31                 12   \n",
              "...    ...    ...      ...       ...        ...     ...                ...   \n",
              "3778     6      1      NaN       139        148     287                388   \n",
              "3779     4      1      NaN       201        215     416                588   \n",
              "3780     3      1      NaN       251        243     494                610   \n",
              "3781     2      1      NaN       205        195     400                735   \n",
              "3782     1      1      NaN       398        490     888                758   \n",
              "\n",
              "      weighted outdegree  Weighted Degree  Eccentricity  ...  Authority  \\\n",
              "0                    110             -518             6  ...   0.080527   \n",
              "1                   -249             -249             6  ...   0.048157   \n",
              "2                     10             -140             7  ...   0.027852   \n",
              "3                    -60             -121             7  ...   0.008680   \n",
              "4                   -128             -116             7  ...   0.007487   \n",
              "...                  ...              ...           ...  ...        ...   \n",
              "3778                 252              640             5  ...   0.122799   \n",
              "3779                 476             1064             5  ...   0.104260   \n",
              "3780                 493             1103             6  ...   0.177256   \n",
              "3781                 397             1132             5  ...   0.173652   \n",
              "3782                 604             1362             5  ...   0.149924   \n",
              "\n",
              "           Hub  pageranks  componentnumber  strongcompnum  modularity_class  \\\n",
              "0     0.025972        NaN                0            506                 2   \n",
              "1     0.049823        NaN                0            506                13   \n",
              "2     0.021469        NaN                0            506                 2   \n",
              "3     0.007923        NaN                0            506                13   \n",
              "4     0.011672        NaN                0            506                13   \n",
              "...        ...        ...              ...            ...               ...   \n",
              "3778  0.122040        NaN                0            506                13   \n",
              "3779  0.110217        NaN                0            506                 2   \n",
              "3780  0.161742        NaN                0            506                13   \n",
              "3781  0.160447        NaN                0            506                 8   \n",
              "3782  0.150574        NaN                0            506                 1   \n",
              "\n",
              "      stat_inf_class  clustering  eigencentrality  behavior  \n",
              "0                 39    0.097339         0.388011        -1  \n",
              "1                 32    0.040049         0.241042        -1  \n",
              "2                 19    0.338768         0.142756        -1  \n",
              "3                 93    0.138889         0.047984        -1  \n",
              "4                 44    0.035000         0.035902        -1  \n",
              "...              ...         ...              ...       ...  \n",
              "3778              77    0.052608         0.633059         1  \n",
              "3779              18    0.026903         0.568198         1  \n",
              "3780              38    0.035077         0.900561         1  \n",
              "3781              13    0.048873         0.869056         1  \n",
              "3782               1    0.005299         0.801361         1  \n",
              "\n",
              "[3783 rows x 23 columns]"
            ],
            "text/html": [
              "\n",
              "  <div id=\"df-2834a0c0-cd6f-4ffe-80d3-482cf07db489\">\n",
              "    <div class=\"colab-df-container\">\n",
              "      <div>\n",
              "<style scoped>\n",
              "    .dataframe tbody tr th:only-of-type {\n",
              "        vertical-align: middle;\n",
              "    }\n",
              "\n",
              "    .dataframe tbody tr th {\n",
              "        vertical-align: top;\n",
              "    }\n",
              "\n",
              "    .dataframe thead th {\n",
              "        text-align: right;\n",
              "    }\n",
              "</style>\n",
              "<table border=\"1\" class=\"dataframe\">\n",
              "  <thead>\n",
              "    <tr style=\"text-align: right;\">\n",
              "      <th></th>\n",
              "      <th>Id</th>\n",
              "      <th>Class</th>\n",
              "      <th>timeset</th>\n",
              "      <th>indegree</th>\n",
              "      <th>outdegree</th>\n",
              "      <th>Degree</th>\n",
              "      <th>weighted indegree</th>\n",
              "      <th>weighted outdegree</th>\n",
              "      <th>Weighted Degree</th>\n",
              "      <th>Eccentricity</th>\n",
              "      <th>...</th>\n",
              "      <th>Authority</th>\n",
              "      <th>Hub</th>\n",
              "      <th>pageranks</th>\n",
              "      <th>componentnumber</th>\n",
              "      <th>strongcompnum</th>\n",
              "      <th>modularity_class</th>\n",
              "      <th>stat_inf_class</th>\n",
              "      <th>clustering</th>\n",
              "      <th>eigencentrality</th>\n",
              "      <th>behavior</th>\n",
              "    </tr>\n",
              "  </thead>\n",
              "  <tbody>\n",
              "    <tr>\n",
              "      <th>0</th>\n",
              "      <td>7604</td>\n",
              "      <td>-1</td>\n",
              "      <td>NaN</td>\n",
              "      <td>73</td>\n",
              "      <td>21</td>\n",
              "      <td>94</td>\n",
              "      <td>-628</td>\n",
              "      <td>110</td>\n",
              "      <td>-518</td>\n",
              "      <td>6</td>\n",
              "      <td>...</td>\n",
              "      <td>0.080527</td>\n",
              "      <td>0.025972</td>\n",
              "      <td>NaN</td>\n",
              "      <td>0</td>\n",
              "      <td>506</td>\n",
              "      <td>2</td>\n",
              "      <td>39</td>\n",
              "      <td>0.097339</td>\n",
              "      <td>0.388011</td>\n",
              "      <td>-1</td>\n",
              "    </tr>\n",
              "    <tr>\n",
              "      <th>1</th>\n",
              "      <td>5342</td>\n",
              "      <td>-1</td>\n",
              "      <td>NaN</td>\n",
              "      <td>39</td>\n",
              "      <td>80</td>\n",
              "      <td>119</td>\n",
              "      <td>0</td>\n",
              "      <td>-249</td>\n",
              "      <td>-249</td>\n",
              "      <td>6</td>\n",
              "      <td>...</td>\n",
              "      <td>0.048157</td>\n",
              "      <td>0.049823</td>\n",
              "      <td>NaN</td>\n",
              "      <td>0</td>\n",
              "      <td>506</td>\n",
              "      <td>13</td>\n",
              "      <td>32</td>\n",
              "      <td>0.040049</td>\n",
              "      <td>0.241042</td>\n",
              "      <td>-1</td>\n",
              "    </tr>\n",
              "    <tr>\n",
              "      <th>2</th>\n",
              "      <td>7602</td>\n",
              "      <td>-1</td>\n",
              "      <td>NaN</td>\n",
              "      <td>17</td>\n",
              "      <td>13</td>\n",
              "      <td>30</td>\n",
              "      <td>-150</td>\n",
              "      <td>10</td>\n",
              "      <td>-140</td>\n",
              "      <td>7</td>\n",
              "      <td>...</td>\n",
              "      <td>0.027852</td>\n",
              "      <td>0.021469</td>\n",
              "      <td>NaN</td>\n",
              "      <td>0</td>\n",
              "      <td>506</td>\n",
              "      <td>2</td>\n",
              "      <td>19</td>\n",
              "      <td>0.338768</td>\n",
              "      <td>0.142756</td>\n",
              "      <td>-1</td>\n",
              "    </tr>\n",
              "    <tr>\n",
              "      <th>3</th>\n",
              "      <td>7594</td>\n",
              "      <td>-1</td>\n",
              "      <td>NaN</td>\n",
              "      <td>8</td>\n",
              "      <td>6</td>\n",
              "      <td>14</td>\n",
              "      <td>-61</td>\n",
              "      <td>-60</td>\n",
              "      <td>-121</td>\n",
              "      <td>7</td>\n",
              "      <td>...</td>\n",
              "      <td>0.008680</td>\n",
              "      <td>0.007923</td>\n",
              "      <td>NaN</td>\n",
              "      <td>0</td>\n",
              "      <td>506</td>\n",
              "      <td>13</td>\n",
              "      <td>93</td>\n",
              "      <td>0.138889</td>\n",
              "      <td>0.047984</td>\n",
              "      <td>-1</td>\n",
              "    </tr>\n",
              "    <tr>\n",
              "      <th>4</th>\n",
              "      <td>708</td>\n",
              "      <td>-1</td>\n",
              "      <td>NaN</td>\n",
              "      <td>7</td>\n",
              "      <td>24</td>\n",
              "      <td>31</td>\n",
              "      <td>12</td>\n",
              "      <td>-128</td>\n",
              "      <td>-116</td>\n",
              "      <td>7</td>\n",
              "      <td>...</td>\n",
              "      <td>0.007487</td>\n",
              "      <td>0.011672</td>\n",
              "      <td>NaN</td>\n",
              "      <td>0</td>\n",
              "      <td>506</td>\n",
              "      <td>13</td>\n",
              "      <td>44</td>\n",
              "      <td>0.035000</td>\n",
              "      <td>0.035902</td>\n",
              "      <td>-1</td>\n",
              "    </tr>\n",
              "    <tr>\n",
              "      <th>...</th>\n",
              "      <td>...</td>\n",
              "      <td>...</td>\n",
              "      <td>...</td>\n",
              "      <td>...</td>\n",
              "      <td>...</td>\n",
              "      <td>...</td>\n",
              "      <td>...</td>\n",
              "      <td>...</td>\n",
              "      <td>...</td>\n",
              "      <td>...</td>\n",
              "      <td>...</td>\n",
              "      <td>...</td>\n",
              "      <td>...</td>\n",
              "      <td>...</td>\n",
              "      <td>...</td>\n",
              "      <td>...</td>\n",
              "      <td>...</td>\n",
              "      <td>...</td>\n",
              "      <td>...</td>\n",
              "      <td>...</td>\n",
              "      <td>...</td>\n",
              "    </tr>\n",
              "    <tr>\n",
              "      <th>3778</th>\n",
              "      <td>6</td>\n",
              "      <td>1</td>\n",
              "      <td>NaN</td>\n",
              "      <td>139</td>\n",
              "      <td>148</td>\n",
              "      <td>287</td>\n",
              "      <td>388</td>\n",
              "      <td>252</td>\n",
              "      <td>640</td>\n",
              "      <td>5</td>\n",
              "      <td>...</td>\n",
              "      <td>0.122799</td>\n",
              "      <td>0.122040</td>\n",
              "      <td>NaN</td>\n",
              "      <td>0</td>\n",
              "      <td>506</td>\n",
              "      <td>13</td>\n",
              "      <td>77</td>\n",
              "      <td>0.052608</td>\n",
              "      <td>0.633059</td>\n",
              "      <td>1</td>\n",
              "    </tr>\n",
              "    <tr>\n",
              "      <th>3779</th>\n",
              "      <td>4</td>\n",
              "      <td>1</td>\n",
              "      <td>NaN</td>\n",
              "      <td>201</td>\n",
              "      <td>215</td>\n",
              "      <td>416</td>\n",
              "      <td>588</td>\n",
              "      <td>476</td>\n",
              "      <td>1064</td>\n",
              "      <td>5</td>\n",
              "      <td>...</td>\n",
              "      <td>0.104260</td>\n",
              "      <td>0.110217</td>\n",
              "      <td>NaN</td>\n",
              "      <td>0</td>\n",
              "      <td>506</td>\n",
              "      <td>2</td>\n",
              "      <td>18</td>\n",
              "      <td>0.026903</td>\n",
              "      <td>0.568198</td>\n",
              "      <td>1</td>\n",
              "    </tr>\n",
              "    <tr>\n",
              "      <th>3780</th>\n",
              "      <td>3</td>\n",
              "      <td>1</td>\n",
              "      <td>NaN</td>\n",
              "      <td>251</td>\n",
              "      <td>243</td>\n",
              "      <td>494</td>\n",
              "      <td>610</td>\n",
              "      <td>493</td>\n",
              "      <td>1103</td>\n",
              "      <td>6</td>\n",
              "      <td>...</td>\n",
              "      <td>0.177256</td>\n",
              "      <td>0.161742</td>\n",
              "      <td>NaN</td>\n",
              "      <td>0</td>\n",
              "      <td>506</td>\n",
              "      <td>13</td>\n",
              "      <td>38</td>\n",
              "      <td>0.035077</td>\n",
              "      <td>0.900561</td>\n",
              "      <td>1</td>\n",
              "    </tr>\n",
              "    <tr>\n",
              "      <th>3781</th>\n",
              "      <td>2</td>\n",
              "      <td>1</td>\n",
              "      <td>NaN</td>\n",
              "      <td>205</td>\n",
              "      <td>195</td>\n",
              "      <td>400</td>\n",
              "      <td>735</td>\n",
              "      <td>397</td>\n",
              "      <td>1132</td>\n",
              "      <td>5</td>\n",
              "      <td>...</td>\n",
              "      <td>0.173652</td>\n",
              "      <td>0.160447</td>\n",
              "      <td>NaN</td>\n",
              "      <td>0</td>\n",
              "      <td>506</td>\n",
              "      <td>8</td>\n",
              "      <td>13</td>\n",
              "      <td>0.048873</td>\n",
              "      <td>0.869056</td>\n",
              "      <td>1</td>\n",
              "    </tr>\n",
              "    <tr>\n",
              "      <th>3782</th>\n",
              "      <td>1</td>\n",
              "      <td>1</td>\n",
              "      <td>NaN</td>\n",
              "      <td>398</td>\n",
              "      <td>490</td>\n",
              "      <td>888</td>\n",
              "      <td>758</td>\n",
              "      <td>604</td>\n",
              "      <td>1362</td>\n",
              "      <td>5</td>\n",
              "      <td>...</td>\n",
              "      <td>0.149924</td>\n",
              "      <td>0.150574</td>\n",
              "      <td>NaN</td>\n",
              "      <td>0</td>\n",
              "      <td>506</td>\n",
              "      <td>1</td>\n",
              "      <td>1</td>\n",
              "      <td>0.005299</td>\n",
              "      <td>0.801361</td>\n",
              "      <td>1</td>\n",
              "    </tr>\n",
              "  </tbody>\n",
              "</table>\n",
              "<p>3783 rows × 23 columns</p>\n",
              "</div>\n",
              "      <button class=\"colab-df-convert\" onclick=\"convertToInteractive('df-2834a0c0-cd6f-4ffe-80d3-482cf07db489')\"\n",
              "              title=\"Convert this dataframe to an interactive table.\"\n",
              "              style=\"display:none;\">\n",
              "        \n",
              "  <svg xmlns=\"http://www.w3.org/2000/svg\" height=\"24px\"viewBox=\"0 0 24 24\"\n",
              "       width=\"24px\">\n",
              "    <path d=\"M0 0h24v24H0V0z\" fill=\"none\"/>\n",
              "    <path d=\"M18.56 5.44l.94 2.06.94-2.06 2.06-.94-2.06-.94-.94-2.06-.94 2.06-2.06.94zm-11 1L8.5 8.5l.94-2.06 2.06-.94-2.06-.94L8.5 2.5l-.94 2.06-2.06.94zm10 10l.94 2.06.94-2.06 2.06-.94-2.06-.94-.94-2.06-.94 2.06-2.06.94z\"/><path d=\"M17.41 7.96l-1.37-1.37c-.4-.4-.92-.59-1.43-.59-.52 0-1.04.2-1.43.59L10.3 9.45l-7.72 7.72c-.78.78-.78 2.05 0 2.83L4 21.41c.39.39.9.59 1.41.59.51 0 1.02-.2 1.41-.59l7.78-7.78 2.81-2.81c.8-.78.8-2.07 0-2.86zM5.41 20L4 18.59l7.72-7.72 1.47 1.35L5.41 20z\"/>\n",
              "  </svg>\n",
              "      </button>\n",
              "      \n",
              "  <style>\n",
              "    .colab-df-container {\n",
              "      display:flex;\n",
              "      flex-wrap:wrap;\n",
              "      gap: 12px;\n",
              "    }\n",
              "\n",
              "    .colab-df-convert {\n",
              "      background-color: #E8F0FE;\n",
              "      border: none;\n",
              "      border-radius: 50%;\n",
              "      cursor: pointer;\n",
              "      display: none;\n",
              "      fill: #1967D2;\n",
              "      height: 32px;\n",
              "      padding: 0 0 0 0;\n",
              "      width: 32px;\n",
              "    }\n",
              "\n",
              "    .colab-df-convert:hover {\n",
              "      background-color: #E2EBFA;\n",
              "      box-shadow: 0px 1px 2px rgba(60, 64, 67, 0.3), 0px 1px 3px 1px rgba(60, 64, 67, 0.15);\n",
              "      fill: #174EA6;\n",
              "    }\n",
              "\n",
              "    [theme=dark] .colab-df-convert {\n",
              "      background-color: #3B4455;\n",
              "      fill: #D2E3FC;\n",
              "    }\n",
              "\n",
              "    [theme=dark] .colab-df-convert:hover {\n",
              "      background-color: #434B5C;\n",
              "      box-shadow: 0px 1px 3px 1px rgba(0, 0, 0, 0.15);\n",
              "      filter: drop-shadow(0px 1px 2px rgba(0, 0, 0, 0.3));\n",
              "      fill: #FFFFFF;\n",
              "    }\n",
              "  </style>\n",
              "\n",
              "      <script>\n",
              "        const buttonEl =\n",
              "          document.querySelector('#df-2834a0c0-cd6f-4ffe-80d3-482cf07db489 button.colab-df-convert');\n",
              "        buttonEl.style.display =\n",
              "          google.colab.kernel.accessAllowed ? 'block' : 'none';\n",
              "\n",
              "        async function convertToInteractive(key) {\n",
              "          const element = document.querySelector('#df-2834a0c0-cd6f-4ffe-80d3-482cf07db489');\n",
              "          const dataTable =\n",
              "            await google.colab.kernel.invokeFunction('convertToInteractive',\n",
              "                                                     [key], {});\n",
              "          if (!dataTable) return;\n",
              "\n",
              "          const docLinkHtml = 'Like what you see? Visit the ' +\n",
              "            '<a target=\"_blank\" href=https://colab.research.google.com/notebooks/data_table.ipynb>data table notebook</a>'\n",
              "            + ' to learn more about interactive tables.';\n",
              "          element.innerHTML = '';\n",
              "          dataTable['output_type'] = 'display_data';\n",
              "          await google.colab.output.renderOutput(dataTable, element);\n",
              "          const docLink = document.createElement('div');\n",
              "          docLink.innerHTML = docLinkHtml;\n",
              "          element.appendChild(docLink);\n",
              "        }\n",
              "      </script>\n",
              "    </div>\n",
              "  </div>\n",
              "  "
            ]
          },
          "metadata": {},
          "execution_count": 6
        }
      ]
    },
    {
      "cell_type": "code",
      "source": [
        "edgeTableTargetSource = edgeTable[['Target', 'Source']].astype(str)\n",
        "neighborTable = edgeTableTargetSource.groupby(['Target'], as_index=False).agg(lambda col: ', '.join(col))\n",
        "neighborTable.columns = neighborTable.columns.str.replace('Source', 'Neighbors')\n",
        "neighborTable"
      ],
      "metadata": {
        "colab": {
          "base_uri": "https://localhost:8080/",
          "height": 853
        },
        "id": "mXj8acwofPPZ",
        "outputId": "f867fb3a-3640-42b7-8718-f22cca70ee2a"
      },
      "execution_count": 7,
      "outputs": [
        {
          "output_type": "execute_result",
          "data": {
            "text/plain": [
              "     Target                                          Neighbors\n",
              "0         1  7188, 430, 3134, 3026, 3010, 804, 160, 95, 377...\n",
              "1        10  1, 2, 3, 4, 8, 37, 177, 623, 130, 334, 62, 161...\n",
              "2       100  3, 5, 6, 7, 11, 12, 14, 16, 21, 26, 44, 50, 52...\n",
              "3      1000                                           509, 772\n",
              "4      1001                   39, 132, 340, 368, 403, 573, 580\n",
              "...     ...                                                ...\n",
              "3749    995                                      166, 504, 608\n",
              "3750    996                                     168, 353, 1615\n",
              "3751    997                                           129, 848\n",
              "3752    998                                      129, 473, 775\n",
              "3753    999                                 109, 181, 447, 473\n",
              "\n",
              "[3754 rows x 2 columns]"
            ],
            "text/html": [
              "\n",
              "  <div id=\"df-a5077547-7a5d-4ad4-bf08-e7e3aca6efcc\">\n",
              "    <div class=\"colab-df-container\">\n",
              "      <div>\n",
              "<style scoped>\n",
              "    .dataframe tbody tr th:only-of-type {\n",
              "        vertical-align: middle;\n",
              "    }\n",
              "\n",
              "    .dataframe tbody tr th {\n",
              "        vertical-align: top;\n",
              "    }\n",
              "\n",
              "    .dataframe thead th {\n",
              "        text-align: right;\n",
              "    }\n",
              "</style>\n",
              "<table border=\"1\" class=\"dataframe\">\n",
              "  <thead>\n",
              "    <tr style=\"text-align: right;\">\n",
              "      <th></th>\n",
              "      <th>Target</th>\n",
              "      <th>Neighbors</th>\n",
              "    </tr>\n",
              "  </thead>\n",
              "  <tbody>\n",
              "    <tr>\n",
              "      <th>0</th>\n",
              "      <td>1</td>\n",
              "      <td>7188, 430, 3134, 3026, 3010, 804, 160, 95, 377...</td>\n",
              "    </tr>\n",
              "    <tr>\n",
              "      <th>1</th>\n",
              "      <td>10</td>\n",
              "      <td>1, 2, 3, 4, 8, 37, 177, 623, 130, 334, 62, 161...</td>\n",
              "    </tr>\n",
              "    <tr>\n",
              "      <th>2</th>\n",
              "      <td>100</td>\n",
              "      <td>3, 5, 6, 7, 11, 12, 14, 16, 21, 26, 44, 50, 52...</td>\n",
              "    </tr>\n",
              "    <tr>\n",
              "      <th>3</th>\n",
              "      <td>1000</td>\n",
              "      <td>509, 772</td>\n",
              "    </tr>\n",
              "    <tr>\n",
              "      <th>4</th>\n",
              "      <td>1001</td>\n",
              "      <td>39, 132, 340, 368, 403, 573, 580</td>\n",
              "    </tr>\n",
              "    <tr>\n",
              "      <th>...</th>\n",
              "      <td>...</td>\n",
              "      <td>...</td>\n",
              "    </tr>\n",
              "    <tr>\n",
              "      <th>3749</th>\n",
              "      <td>995</td>\n",
              "      <td>166, 504, 608</td>\n",
              "    </tr>\n",
              "    <tr>\n",
              "      <th>3750</th>\n",
              "      <td>996</td>\n",
              "      <td>168, 353, 1615</td>\n",
              "    </tr>\n",
              "    <tr>\n",
              "      <th>3751</th>\n",
              "      <td>997</td>\n",
              "      <td>129, 848</td>\n",
              "    </tr>\n",
              "    <tr>\n",
              "      <th>3752</th>\n",
              "      <td>998</td>\n",
              "      <td>129, 473, 775</td>\n",
              "    </tr>\n",
              "    <tr>\n",
              "      <th>3753</th>\n",
              "      <td>999</td>\n",
              "      <td>109, 181, 447, 473</td>\n",
              "    </tr>\n",
              "  </tbody>\n",
              "</table>\n",
              "<p>3754 rows × 2 columns</p>\n",
              "</div>\n",
              "      <button class=\"colab-df-convert\" onclick=\"convertToInteractive('df-a5077547-7a5d-4ad4-bf08-e7e3aca6efcc')\"\n",
              "              title=\"Convert this dataframe to an interactive table.\"\n",
              "              style=\"display:none;\">\n",
              "        \n",
              "  <svg xmlns=\"http://www.w3.org/2000/svg\" height=\"24px\"viewBox=\"0 0 24 24\"\n",
              "       width=\"24px\">\n",
              "    <path d=\"M0 0h24v24H0V0z\" fill=\"none\"/>\n",
              "    <path d=\"M18.56 5.44l.94 2.06.94-2.06 2.06-.94-2.06-.94-.94-2.06-.94 2.06-2.06.94zm-11 1L8.5 8.5l.94-2.06 2.06-.94-2.06-.94L8.5 2.5l-.94 2.06-2.06.94zm10 10l.94 2.06.94-2.06 2.06-.94-2.06-.94-.94-2.06-.94 2.06-2.06.94z\"/><path d=\"M17.41 7.96l-1.37-1.37c-.4-.4-.92-.59-1.43-.59-.52 0-1.04.2-1.43.59L10.3 9.45l-7.72 7.72c-.78.78-.78 2.05 0 2.83L4 21.41c.39.39.9.59 1.41.59.51 0 1.02-.2 1.41-.59l7.78-7.78 2.81-2.81c.8-.78.8-2.07 0-2.86zM5.41 20L4 18.59l7.72-7.72 1.47 1.35L5.41 20z\"/>\n",
              "  </svg>\n",
              "      </button>\n",
              "      \n",
              "  <style>\n",
              "    .colab-df-container {\n",
              "      display:flex;\n",
              "      flex-wrap:wrap;\n",
              "      gap: 12px;\n",
              "    }\n",
              "\n",
              "    .colab-df-convert {\n",
              "      background-color: #E8F0FE;\n",
              "      border: none;\n",
              "      border-radius: 50%;\n",
              "      cursor: pointer;\n",
              "      display: none;\n",
              "      fill: #1967D2;\n",
              "      height: 32px;\n",
              "      padding: 0 0 0 0;\n",
              "      width: 32px;\n",
              "    }\n",
              "\n",
              "    .colab-df-convert:hover {\n",
              "      background-color: #E2EBFA;\n",
              "      box-shadow: 0px 1px 2px rgba(60, 64, 67, 0.3), 0px 1px 3px 1px rgba(60, 64, 67, 0.15);\n",
              "      fill: #174EA6;\n",
              "    }\n",
              "\n",
              "    [theme=dark] .colab-df-convert {\n",
              "      background-color: #3B4455;\n",
              "      fill: #D2E3FC;\n",
              "    }\n",
              "\n",
              "    [theme=dark] .colab-df-convert:hover {\n",
              "      background-color: #434B5C;\n",
              "      box-shadow: 0px 1px 3px 1px rgba(0, 0, 0, 0.15);\n",
              "      filter: drop-shadow(0px 1px 2px rgba(0, 0, 0, 0.3));\n",
              "      fill: #FFFFFF;\n",
              "    }\n",
              "  </style>\n",
              "\n",
              "      <script>\n",
              "        const buttonEl =\n",
              "          document.querySelector('#df-a5077547-7a5d-4ad4-bf08-e7e3aca6efcc button.colab-df-convert');\n",
              "        buttonEl.style.display =\n",
              "          google.colab.kernel.accessAllowed ? 'block' : 'none';\n",
              "\n",
              "        async function convertToInteractive(key) {\n",
              "          const element = document.querySelector('#df-a5077547-7a5d-4ad4-bf08-e7e3aca6efcc');\n",
              "          const dataTable =\n",
              "            await google.colab.kernel.invokeFunction('convertToInteractive',\n",
              "                                                     [key], {});\n",
              "          if (!dataTable) return;\n",
              "\n",
              "          const docLinkHtml = 'Like what you see? Visit the ' +\n",
              "            '<a target=\"_blank\" href=https://colab.research.google.com/notebooks/data_table.ipynb>data table notebook</a>'\n",
              "            + ' to learn more about interactive tables.';\n",
              "          element.innerHTML = '';\n",
              "          dataTable['output_type'] = 'display_data';\n",
              "          await google.colab.output.renderOutput(dataTable, element);\n",
              "          const docLink = document.createElement('div');\n",
              "          docLink.innerHTML = docLinkHtml;\n",
              "          element.appendChild(docLink);\n",
              "        }\n",
              "      </script>\n",
              "    </div>\n",
              "  </div>\n",
              "  "
            ]
          },
          "metadata": {},
          "execution_count": 7
        }
      ]
    },
    {
      "cell_type": "markdown",
      "source": [
        "# Generate Random Probability"
      ],
      "metadata": {
        "id": "CCdk5SRvLyR_"
      }
    },
    {
      "cell_type": "code",
      "source": [
        "def randProbability(min, max):\n",
        "  # generate random floating point values\n",
        "  import random\n",
        "  return min + (random.random() * (max - min))"
      ],
      "metadata": {
        "id": "mLbAN59TIXMd"
      },
      "execution_count": 8,
      "outputs": []
    },
    {
      "cell_type": "markdown",
      "source": [
        "# Behavior Spread Based on Mutation Factor"
      ],
      "metadata": {
        "id": "L6HUTSOTM9Uc"
      }
    },
    {
      "cell_type": "code",
      "source": [
        "def behaviorSpreadMutate():\n",
        "  import random\n",
        "  meu_m = randProbability(0, 0.01)                                     # Random mutation factor generation in the range of (0, 0.01)\n",
        "  for trader in nodeTable.index:\n",
        "    if nodeTable.iloc[trader].Class == 0:\n",
        "      if randProbability(0, 1) >= (1-meu_m):                           # If cross the threshold of meu_m\n",
        "        nodeTable.iloc[trader].behavior = random.choice([-1, 0, 1])   # Change behavior randomly"
      ],
      "metadata": {
        "id": "2NzUcQZDM84T"
      },
      "execution_count": 9,
      "outputs": []
    },
    {
      "cell_type": "markdown",
      "source": [
        "# Behavior Spread Based on Neighbors"
      ],
      "metadata": {
        "id": "1RwKXHS8O8YF"
      }
    },
    {
      "cell_type": "code",
      "source": [
        "def behaviorSpreadNeighbors():\n",
        "  import random\n",
        "  gamma = randProbability(0, 0.05)       # Random transmission rate generation in the range of (0, 0.05)\n",
        "  for trader in nodeTable.index:\n",
        "    if nodeTable.iloc[trader].Class == 0:\n",
        "      if randProbability(0, 1) >= (1-gamma):\n",
        "        try:\n",
        "          random_neighbor = random.choice(neighborTable.loc[neighborTable['Target'].astype(int) == nodeTable.iloc[trader].Id.astype(int)]['Neighbors'].to_string(index=False).split(\",\"))\n",
        "          nodeTable.iloc[trader].behavior = int(nodeTable.loc[nodeTable['Id'].astype(int) == int(random_neighbor)].behavior.to_string(index=False))\n",
        "        except:\n",
        "          pass"
      ],
      "metadata": {
        "id": "EoIiSI9tN2oM"
      },
      "execution_count": 46,
      "outputs": []
    },
    {
      "cell_type": "markdown",
      "source": [
        "# Setting of Parameters"
      ],
      "metadata": {
        "id": "kuDUvDleUpke"
      }
    },
    {
      "cell_type": "code",
      "source": [
        "def setParameters():\n",
        "  beta_T = randProbability(0, 1)\n",
        "  beta_S = beta_T\n",
        "\n",
        "  meu_T = randProbability(0, beta_T)\n",
        "  meu_S = meu_T\n",
        "\n",
        "  return beta_T, beta_S, meu_T, meu_S"
      ],
      "metadata": {
        "id": "Kc7JaCmlU5_i"
      },
      "execution_count": 48,
      "outputs": []
    },
    {
      "cell_type": "markdown",
      "source": [
        "# Calculating Propotion of Neighbors"
      ],
      "metadata": {
        "id": "DwwBetVhV9Pu"
      }
    },
    {
      "cell_type": "code",
      "source": [
        "def neighborProportion(nodeId):\n",
        "  print('Code goes here')             # Value of sigma_C_i\n",
        "neighborProportion()"
      ],
      "metadata": {
        "colab": {
          "base_uri": "https://localhost:8080/"
        },
        "id": "hhGoJaSYV8uo",
        "outputId": "390d7c16-eada-4e0b-983e-2fae34d5af6d"
      },
      "execution_count": null,
      "outputs": [
        {
          "output_type": "stream",
          "name": "stdout",
          "text": [
            "Code goes here\n"
          ]
        }
      ]
    },
    {
      "cell_type": "markdown",
      "source": [
        "# Susceptible-Infected-Susceptible (SIS) Model"
      ],
      "metadata": {
        "id": "lRHkDOvqQMDj"
      }
    },
    {
      "cell_type": "code",
      "source": [
        "def modelSIS():\n",
        "  print('Codes goes here')              # Codes goes here\n",
        "modelSIS()"
      ],
      "metadata": {
        "colab": {
          "base_uri": "https://localhost:8080/"
        },
        "id": "3HtIai12QItb",
        "outputId": "ef8f7230-5551-42a9-9d9e-7ef7d5aac77f"
      },
      "execution_count": null,
      "outputs": [
        {
          "output_type": "stream",
          "name": "stdout",
          "text": [
            "Codes goes here\n"
          ]
        }
      ]
    },
    {
      "cell_type": "markdown",
      "source": [
        "# Voter Model"
      ],
      "metadata": {
        "id": "LedKutTHQy2q"
      }
    },
    {
      "cell_type": "code",
      "source": [
        "def modelVoter():\n",
        "  print('Codes goes here')              # Codes goes here\n",
        "modelVoter()"
      ],
      "metadata": {
        "colab": {
          "base_uri": "https://localhost:8080/"
        },
        "id": "vFr4wJ3NQnrp",
        "outputId": "41573535-89ce-488f-9967-bc19965a5f33"
      },
      "execution_count": null,
      "outputs": [
        {
          "output_type": "stream",
          "name": "stdout",
          "text": [
            "Codes goes here\n"
          ]
        }
      ]
    },
    {
      "cell_type": "markdown",
      "source": [
        "# Bilingual Model"
      ],
      "metadata": {
        "id": "UtrmdgbjQ6s8"
      }
    },
    {
      "cell_type": "code",
      "source": [
        "def modelBilingual():\n",
        "  print('Codes goes here')              # Codes goes here\n",
        "modelBilingual()"
      ],
      "metadata": {
        "colab": {
          "base_uri": "https://localhost:8080/"
        },
        "id": "NGM3Q8QcQ5hW",
        "outputId": "db278d2a-1a6c-4ba7-97ac-71d3bf0c87f1"
      },
      "execution_count": null,
      "outputs": [
        {
          "output_type": "stream",
          "name": "stdout",
          "text": [
            "Codes goes here\n"
          ]
        }
      ]
    },
    {
      "cell_type": "markdown",
      "source": [
        "# Behavior Spread"
      ],
      "metadata": {
        "id": "-wy2j0djSBs7"
      }
    },
    {
      "cell_type": "code",
      "source": [
        "def behaviorSpread():\n",
        "  epoch = 0\n",
        "  total_epoch = 10000\n",
        "  # Set all nodes ignorant\n",
        "  # Set one random node aware\n",
        "  while epoch < total_epoch:\n",
        "    epoch = epoch + 1\n",
        "    behaviorSpreadNeighbors()\n",
        "    behaviorSpreadMutate()\n",
        "    #for i in neutral_traders:\n",
        "      # Select a random neighbor j with probability proportional to in_degree.\n",
        "      #if i neutral & j not neutral:\n",
        "        # i can assume the state of j under the rules of the model\n",
        "      #elif i not neutral:\n",
        "          # set i neutral under the rules of the model"
      ],
      "metadata": {
        "id": "jeAcCxDeRDSW"
      },
      "execution_count": null,
      "outputs": []
    },
    {
      "cell_type": "code",
      "source": [],
      "metadata": {
        "id": "2UnDpkRIUimo"
      },
      "execution_count": null,
      "outputs": []
    }
  ]
}