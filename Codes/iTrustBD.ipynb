{
  "nbformat": 4,
  "nbformat_minor": 0,
  "metadata": {
    "colab": {
      "provenance": [],
      "authorship_tag": "ABX9TyOR3Un12biwh/QYTl36wNLg",
      "include_colab_link": true
    },
    "kernelspec": {
      "name": "python3",
      "display_name": "Python 3"
    },
    "language_info": {
      "name": "python"
    }
  },
  "cells": [
    {
      "cell_type": "markdown",
      "metadata": {
        "id": "view-in-github",
        "colab_type": "text"
      },
      "source": [
        "<a href=\"https://colab.research.google.com/github/DataParadox/iTrustBD/blob/main/Codes/iTrustBD.ipynb\" target=\"_parent\"><img src=\"https://colab.research.google.com/assets/colab-badge.svg\" alt=\"Open In Colab\"/></a>"
      ]
    },
    {
      "cell_type": "markdown",
      "source": [
        "# Clone Project from GitHub and Connect to Google Drive"
      ],
      "metadata": {
        "id": "jQdSctx6OvSB"
      }
    },
    {
      "cell_type": "code",
      "execution_count": 1,
      "metadata": {
        "id": "UT2pS4WmEW5t",
        "colab": {
          "base_uri": "https://localhost:8080/"
        },
        "outputId": "1350feec-1d63-4e99-fceb-b2c230ac2db3"
      },
      "outputs": [
        {
          "output_type": "stream",
          "name": "stdout",
          "text": [
            "Mounted at /content/drive\n"
          ]
        }
      ],
      "source": [
        "from google.colab import drive\n",
        "drive.mount('/content/drive')"
      ]
    },
    {
      "cell_type": "code",
      "source": [
        "%cd '/content/drive/My Drive/PG/CSE6413 Network Science/Project Works/'"
      ],
      "metadata": {
        "id": "Kxvr2OftGKD9",
        "colab": {
          "base_uri": "https://localhost:8080/"
        },
        "outputId": "d04c8812-2f59-411c-bfee-00274a3feb4c"
      },
      "execution_count": 2,
      "outputs": [
        {
          "output_type": "stream",
          "name": "stdout",
          "text": [
            "/content/drive/My Drive/PG/CSE6413 Network Science/Project Works\n"
          ]
        }
      ]
    },
    {
      "cell_type": "code",
      "source": [
        "!git clone 'https://github.com/DataParadox/iTrustBD.git'"
      ],
      "metadata": {
        "id": "tVBntyckGdcf"
      },
      "execution_count": null,
      "outputs": []
    },
    {
      "cell_type": "code",
      "source": [
        "%cd iTrustBD"
      ],
      "metadata": {
        "id": "2VPKOL34HQQv",
        "colab": {
          "base_uri": "https://localhost:8080/"
        },
        "outputId": "badec067-962d-41bb-a5fa-4a6aab74b0a3"
      },
      "execution_count": 3,
      "outputs": [
        {
          "output_type": "stream",
          "name": "stdout",
          "text": [
            "/content/drive/My Drive/PG/CSE6413 Network Science/Project Works/iTrustBD\n"
          ]
        }
      ]
    },
    {
      "cell_type": "code",
      "source": [
        "!git pull"
      ],
      "metadata": {
        "colab": {
          "base_uri": "https://localhost:8080/"
        },
        "id": "kvDZWOQQ72xE",
        "outputId": "f59865ff-dcd7-4a3f-d7cd-98023aa3c859"
      },
      "execution_count": 5,
      "outputs": [
        {
          "output_type": "stream",
          "name": "stdout",
          "text": [
            "remote: Enumerating objects: 7, done.\u001b[K\n",
            "remote: Counting objects:  14% (1/7)\u001b[K\rremote: Counting objects:  28% (2/7)\u001b[K\rremote: Counting objects:  42% (3/7)\u001b[K\rremote: Counting objects:  57% (4/7)\u001b[K\rremote: Counting objects:  71% (5/7)\u001b[K\rremote: Counting objects:  85% (6/7)\u001b[K\rremote: Counting objects: 100% (7/7)\u001b[K\rremote: Counting objects: 100% (7/7), done.\u001b[K\n",
            "remote: Compressing objects:  33% (1/3)\u001b[K\rremote: Compressing objects:  66% (2/3)\u001b[K\rremote: Compressing objects: 100% (3/3)\u001b[K\rremote: Compressing objects: 100% (3/3), done.\u001b[K\n",
            "remote: Total 4 (delta 2), reused 0 (delta 0), pack-reused 0\u001b[K\n",
            "Unpacking objects: 100% (4/4), done.\n",
            "From https://github.com/DataParadox/iTrustBD\n",
            "   72b4f91..2f6da27  main       -> origin/main\n",
            "Updating 72b4f91..2f6da27\n",
            "Fast-forward\n",
            " Codes/iTrustBD.ipynb | 150 \u001b[32m++++++++++++++++++++++++++++\u001b[m\u001b[31m-----------------------\u001b[m\n",
            " 1 file changed, 84 insertions(+), 66 deletions(-)\n"
          ]
        }
      ]
    },
    {
      "cell_type": "markdown",
      "source": [
        "# Set Datasets"
      ],
      "metadata": {
        "id": "xTabGOXrOBxd"
      }
    },
    {
      "cell_type": "code",
      "source": [
        "def setDatasets(dataset):           # dataset -> Name of the dataset, i.e. 'soc-sign-bitcoinalpha-dataset' \n",
        "  import pandas as pd\n",
        "  \n",
        "  nodeTable = pd.read_csv('./BTC-Alpha/'+dataset+'-nodes-table.csv')\n",
        "  edgeTable = pd.read_csv('./BTC-Alpha/'+dataset+'-edge-table.csv')\n",
        "  nodeTable['behavior'] = nodeTable['Class']\n",
        "\n",
        "  edgeTableTargetSource = edgeTable[['Target', 'Source']].astype(str)\n",
        "  neighborTableIn = edgeTableTargetSource.groupby(['Target'], as_index=False).agg(lambda col: ', '.join(col))\n",
        "  neighborTableIn.columns = neighborTableIn.columns.str.replace('Source', 'Neighbors')\n",
        "\n",
        "  neighborTableOut = edgeTableTargetSource.groupby(['Source'], as_index=False).agg(lambda col: ', '.join(col))\n",
        "  neighborTableOut.columns = neighborTableOut.columns.str.replace('Target', 'Neighbors')\n",
        "\n",
        "  return nodeTable, edgeTable, neighborTableIn, neighborTableOut\n",
        "\n",
        "\n",
        "dataset = 'soc-sign-bitcoinalpha-dataset'\n",
        "nodeTable, edgeTable, neighborTableIn, neighborTableOut = setDatasets(dataset)"
      ],
      "metadata": {
        "id": "buizkBgvOBEp"
      },
      "execution_count": 64,
      "outputs": []
    },
    {
      "cell_type": "markdown",
      "source": [
        "# Generate Random Probability"
      ],
      "metadata": {
        "id": "CCdk5SRvLyR_"
      }
    },
    {
      "cell_type": "code",
      "source": [
        "def randProbability(min, max):\n",
        "  # generate random floating point values\n",
        "  import random\n",
        "  return min + (random.random() * (max - min))"
      ],
      "metadata": {
        "id": "mLbAN59TIXMd"
      },
      "execution_count": 65,
      "outputs": []
    },
    {
      "cell_type": "markdown",
      "source": [
        "# Behavior Spread Based on Mutation Factor"
      ],
      "metadata": {
        "id": "L6HUTSOTM9Uc"
      }
    },
    {
      "cell_type": "code",
      "source": [
        "def behaviorSpreadMutate(nodeTable):\n",
        "  import random\n",
        "  meu_m = randProbability(0, 0.01)                                     # Random mutation factor generation in the range of (0, 0.01)\n",
        "  for trader in nodeTable.index:\n",
        "    if nodeTable.iloc[trader].Class == 0:\n",
        "      if randProbability(0, 1) >= (1-meu_m):                           # If cross the threshold of meu_m\n",
        "        nodeTable.iloc[trader].behavior = random.choice([-1, 0, 1])   # Change behavior randomly"
      ],
      "metadata": {
        "id": "2NzUcQZDM84T"
      },
      "execution_count": 66,
      "outputs": []
    },
    {
      "cell_type": "markdown",
      "source": [
        "# Behavior Spread Based on Neighbors"
      ],
      "metadata": {
        "id": "1RwKXHS8O8YF"
      }
    },
    {
      "cell_type": "code",
      "source": [
        "def behaviorSpreadNeighbors(nodeTable, neighborTableIn):\n",
        "  import random\n",
        "  gamma = randProbability(0, 0.05)       # Random transmission rate generation in the range of (0, 0.05)\n",
        "  for trader in nodeTable.index:\n",
        "    if nodeTable.iloc[trader].Class == 0:\n",
        "      if randProbability(0, 1) >= (1-gamma):\n",
        "        try:\n",
        "          random_neighbor = random.choice(list(map(int, neighborTableIn.loc[neighborTableIn['Target'].astype(int) == nodeTable.iloc[trader].Id.astype(int)]['Neighbors'].item().split(\",\"))))\n",
        "          #print(random_neighbor, 'A', list(map(int, neighborTableIn.loc[neighborTableIn['Target'].astype(int) == nodeTable.iloc[trader].Id.astype(int)]['Neighbors'].item().split(\",\"))))\n",
        "          nodeTable.iloc[trader].behavior = int(nodeTable.loc[nodeTable['Id'].astype(int) == int(random_neighbor)].behavior.to_string(index=False))\n",
        "        except:\n",
        "          pass"
      ],
      "metadata": {
        "id": "EoIiSI9tN2oM"
      },
      "execution_count": 67,
      "outputs": []
    },
    {
      "cell_type": "markdown",
      "source": [
        "# Setting of Parameters"
      ],
      "metadata": {
        "id": "kuDUvDleUpke"
      }
    },
    {
      "cell_type": "code",
      "source": [
        "def setParameters():\n",
        "  beta_T = randProbability(0, 1)\n",
        "  beta_S = beta_T\n",
        "\n",
        "  meu_T = randProbability(0, beta_T)\n",
        "  meu_S = meu_T\n",
        "\n",
        "  return beta_T, beta_S, meu_T, meu_S"
      ],
      "metadata": {
        "id": "Kc7JaCmlU5_i"
      },
      "execution_count": 68,
      "outputs": []
    },
    {
      "cell_type": "markdown",
      "source": [
        "# Calculating Propotion of Neighbors"
      ],
      "metadata": {
        "id": "DwwBetVhV9Pu"
      }
    },
    {
      "cell_type": "code",
      "source": [
        "def neighborProportion(nodeId, nodeTable, neighborTableIn, neighborTableOut):\n",
        "  setNeighbor = set(list(map(int, neighborTableIn.loc[neighborTableIn['Target'].astype(int) == int(nodeId)]['Neighbors'].item().split(\",\"))))\n",
        "  setNeighbor = set(list(map(int, neighborTableOut.loc[neighborTableOut['Source'].astype(int) == int(nodeId)]['Neighbors'].item().split(\",\")))).union(setNeighbor)\n",
        "\n",
        "  countTrusty = 0\n",
        "  countSuspecious = 0\n",
        "  countNormal = 0\n",
        "\n",
        "  for neighbor in setNeighbor:\n",
        "    if int(nodeTable.loc[nodeTable['Id'].astype(int) == int(neighbor)].behavior.to_string(index=False)) == 0:\n",
        "      countNormal = countNormal + 1\n",
        "    elif int(nodeTable.loc[nodeTable['Id'].astype(int) == int(neighbor)].behavior.to_string(index=False)) == 1:\n",
        "      countTrusty = countTrusty + 1\n",
        "    else:\n",
        "      countSuspecious = countSuspecious + 1\n",
        "  \n",
        "  return countTrusty/(countTrusty+countNormal+countSuspecious), countNormal/(countTrusty+countNormal+countSuspecious), countSuspecious/(countTrusty+countNormal+countSuspecious)\n",
        "  #return sigma_T, sigma_N, sigma_S"
      ],
      "metadata": {
        "id": "hhGoJaSYV8uo"
      },
      "execution_count": 69,
      "outputs": []
    },
    {
      "cell_type": "markdown",
      "source": [
        "# Susceptible-Infected-Susceptible (SIS) Model"
      ],
      "metadata": {
        "id": "lRHkDOvqQMDj"
      }
    },
    {
      "cell_type": "code",
      "source": [
        "def modelSIS():\n",
        "  print('Codes goes here')              # Codes goes here\n",
        "modelSIS()"
      ],
      "metadata": {
        "colab": {
          "base_uri": "https://localhost:8080/"
        },
        "id": "3HtIai12QItb",
        "outputId": "ef8f7230-5551-42a9-9d9e-7ef7d5aac77f"
      },
      "execution_count": null,
      "outputs": [
        {
          "output_type": "stream",
          "name": "stdout",
          "text": [
            "Codes goes here\n"
          ]
        }
      ]
    },
    {
      "cell_type": "markdown",
      "source": [
        "# Voter Model"
      ],
      "metadata": {
        "id": "LedKutTHQy2q"
      }
    },
    {
      "cell_type": "code",
      "source": [
        "def modelVoter():\n",
        "  print('Codes goes here')              # Codes goes here\n",
        "modelVoter()"
      ],
      "metadata": {
        "colab": {
          "base_uri": "https://localhost:8080/"
        },
        "id": "vFr4wJ3NQnrp",
        "outputId": "41573535-89ce-488f-9967-bc19965a5f33"
      },
      "execution_count": null,
      "outputs": [
        {
          "output_type": "stream",
          "name": "stdout",
          "text": [
            "Codes goes here\n"
          ]
        }
      ]
    },
    {
      "cell_type": "markdown",
      "source": [
        "# Bilingual Model"
      ],
      "metadata": {
        "id": "UtrmdgbjQ6s8"
      }
    },
    {
      "cell_type": "code",
      "source": [
        "def modelBilingual():\n",
        "  print('Codes goes here')              # Codes goes here\n",
        "modelBilingual()"
      ],
      "metadata": {
        "colab": {
          "base_uri": "https://localhost:8080/"
        },
        "id": "NGM3Q8QcQ5hW",
        "outputId": "db278d2a-1a6c-4ba7-97ac-71d3bf0c87f1"
      },
      "execution_count": null,
      "outputs": [
        {
          "output_type": "stream",
          "name": "stdout",
          "text": [
            "Codes goes here\n"
          ]
        }
      ]
    },
    {
      "cell_type": "markdown",
      "source": [
        "# Behavior Spread"
      ],
      "metadata": {
        "id": "-wy2j0djSBs7"
      }
    },
    {
      "cell_type": "code",
      "source": [
        "def behaviorSpread():\n",
        "  epoch = 0\n",
        "  total_epoch = 10000\n",
        "  # Set all nodes ignorant\n",
        "  # Set one random node aware\n",
        "  while epoch < total_epoch:\n",
        "    epoch = epoch + 1\n",
        "    behaviorSpreadNeighbors()\n",
        "    behaviorSpreadMutate()\n",
        "    #for i in neutral_traders:\n",
        "      # Select a random neighbor j with probability proportional to in_degree.\n",
        "      #if i neutral & j not neutral:\n",
        "        # i can assume the state of j under the rules of the model\n",
        "      #elif i not neutral:\n",
        "          # set i neutral under the rules of the model"
      ],
      "metadata": {
        "id": "jeAcCxDeRDSW"
      },
      "execution_count": null,
      "outputs": []
    },
    {
      "cell_type": "code",
      "source": [],
      "metadata": {
        "id": "2UnDpkRIUimo"
      },
      "execution_count": null,
      "outputs": []
    }
  ]
}