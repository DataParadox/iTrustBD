{
  "nbformat": 4,
  "nbformat_minor": 0,
  "metadata": {
    "colab": {
      "provenance": [],
      "authorship_tag": "ABX9TyMCDxdZURwDAgohs3us4xt1",
      "include_colab_link": true
    },
    "kernelspec": {
      "name": "python3",
      "display_name": "Python 3"
    },
    "language_info": {
      "name": "python"
    }
  },
  "cells": [
    {
      "cell_type": "markdown",
      "metadata": {
        "id": "view-in-github",
        "colab_type": "text"
      },
      "source": [
        "<a href=\"https://colab.research.google.com/github/DataParadox/iTrustBD/blob/main/Codes/iTrustBD.ipynb\" target=\"_parent\"><img src=\"https://colab.research.google.com/assets/colab-badge.svg\" alt=\"Open In Colab\"/></a>"
      ]
    },
    {
      "cell_type": "markdown",
      "source": [
        "# Clone Project from GitHub and Connect to Google Drive"
      ],
      "metadata": {
        "id": "jQdSctx6OvSB"
      }
    },
    {
      "cell_type": "code",
      "execution_count": 1,
      "metadata": {
        "colab": {
          "base_uri": "https://localhost:8080/"
        },
        "id": "UT2pS4WmEW5t",
        "outputId": "1d8d8d05-5d93-49c3-ad92-f6f0e88d6281"
      },
      "outputs": [
        {
          "output_type": "stream",
          "name": "stdout",
          "text": [
            "Mounted at /content/drive\n"
          ]
        }
      ],
      "source": [
        "from google.colab import drive\n",
        "drive.mount('/content/drive')"
      ]
    },
    {
      "cell_type": "code",
      "source": [
        "%cd '/content/drive/My Drive/PG/CSE6413 Network Science/Project Works/'"
      ],
      "metadata": {
        "colab": {
          "base_uri": "https://localhost:8080/"
        },
        "id": "Kxvr2OftGKD9",
        "outputId": "7f9e788f-4ca0-4ba4-ff78-1b4ecb4c7881"
      },
      "execution_count": 4,
      "outputs": [
        {
          "output_type": "stream",
          "name": "stdout",
          "text": [
            "/content/drive/My Drive/PG/CSE6413 Network Science/Project Works\n"
          ]
        }
      ]
    },
    {
      "cell_type": "code",
      "source": [
        "!git clone 'https://github.com/DataParadox/iTrustBD.git'"
      ],
      "metadata": {
        "colab": {
          "base_uri": "https://localhost:8080/"
        },
        "id": "tVBntyckGdcf",
        "outputId": "b0d5c9fb-9785-424a-d1b4-647f1e9fee2b"
      },
      "execution_count": 5,
      "outputs": [
        {
          "output_type": "stream",
          "name": "stdout",
          "text": [
            "Cloning into 'iTrustBD'...\n",
            "remote: Enumerating objects: 103, done.\u001b[K\n",
            "remote: Counting objects: 100% (103/103), done.\u001b[K\n",
            "remote: Compressing objects: 100% (82/82), done.\u001b[K\n",
            "remote: Total 103 (delta 26), reused 0 (delta 0), pack-reused 0\u001b[K\n",
            "Receiving objects: 100% (103/103), 627.46 KiB | 3.85 MiB/s, done.\n",
            "Resolving deltas: 100% (26/26), done.\n"
          ]
        }
      ]
    },
    {
      "cell_type": "code",
      "source": [
        "%cd iTrustBD"
      ],
      "metadata": {
        "colab": {
          "base_uri": "https://localhost:8080/"
        },
        "id": "2VPKOL34HQQv",
        "outputId": "e843018f-7870-43cf-da6b-06da9d36275b"
      },
      "execution_count": 7,
      "outputs": [
        {
          "output_type": "stream",
          "name": "stdout",
          "text": [
            "/content/drive/MyDrive/PG/CSE6413 Network Science/Project Works/iTrustBD\n"
          ]
        }
      ]
    },
    {
      "cell_type": "markdown",
      "source": [
        "# Set Datasets"
      ],
      "metadata": {
        "id": "xTabGOXrOBxd"
      }
    },
    {
      "cell_type": "code",
      "source": [
        "def setDatasets(dataset):           # dataset -> Name of the dataset, i.e. 'soc-sign-bitcoinalpha-dataset' \n",
        "  import pandas as pd\n",
        "  \n",
        "  nodeTable = pd.read_csv('./BTC-Alpha/'+dataset+'-nodes-table.csv')\n",
        "  edgeTable = pd.read_csv('./BTC-Alpha/'+dataset+'-edge-table.csv')"
      ],
      "metadata": {
        "id": "buizkBgvOBEp"
      },
      "execution_count": 38,
      "outputs": []
    },
    {
      "cell_type": "markdown",
      "source": [
        "# Generate Random Probability"
      ],
      "metadata": {
        "id": "CCdk5SRvLyR_"
      }
    },
    {
      "cell_type": "code",
      "source": [
        "def randProbability(min, max):\n",
        "  # generate random floating point values\n",
        "  from random import seed\n",
        "  from random import random\n",
        "  # seed random number generator\n",
        "  seed(1)\n",
        "  # generate random numbers between min-max\n",
        "  value = random()\n",
        "  return min + (value * (max - min))"
      ],
      "metadata": {
        "id": "mLbAN59TIXMd"
      },
      "execution_count": 18,
      "outputs": []
    },
    {
      "cell_type": "markdown",
      "source": [
        "# Behavior Spread Based on Mutation Factor"
      ],
      "metadata": {
        "id": "L6HUTSOTM9Uc"
      }
    },
    {
      "cell_type": "code",
      "source": [
        "def behaviorSpreadMutate():\n",
        "  meu_m = randProbability(0, 0.2)        # Random mutation factor generation in the range of (0, 0.2)\n",
        "  print(meu_m)                           # Codes goes here\n",
        "behaviorSpreadMutate()"
      ],
      "metadata": {
        "colab": {
          "base_uri": "https://localhost:8080/"
        },
        "id": "2NzUcQZDM84T",
        "outputId": "1a6385f5-4c48-45d3-8cbe-2b420aae1d35"
      },
      "execution_count": 25,
      "outputs": [
        {
          "output_type": "stream",
          "name": "stdout",
          "text": [
            "0.026872848822480245\n"
          ]
        }
      ]
    },
    {
      "cell_type": "markdown",
      "source": [
        "# Behavior Spread Based on Neighbors"
      ],
      "metadata": {
        "id": "1RwKXHS8O8YF"
      }
    },
    {
      "cell_type": "code",
      "source": [
        "def behaviorSpreadNeighbors():\n",
        "  gamma = randProbability(0, 0.5)       # Random transmission rate generation in the range of (0, 0.5)\n",
        "  print(gamma)                          # Codes goes here\n",
        "behaviorSpreadNeighbors()"
      ],
      "metadata": {
        "colab": {
          "base_uri": "https://localhost:8080/"
        },
        "id": "EoIiSI9tN2oM",
        "outputId": "d0178249-2fd9-4a03-8a9b-abfc1c467834"
      },
      "execution_count": 26,
      "outputs": [
        {
          "output_type": "stream",
          "name": "stdout",
          "text": [
            "0.06718212205620061\n"
          ]
        }
      ]
    },
    {
      "cell_type": "markdown",
      "source": [
        "# Setting of Parameters"
      ],
      "metadata": {
        "id": "kuDUvDleUpke"
      }
    },
    {
      "cell_type": "code",
      "source": [
        "def setParameters():\n",
        "  beta_T = randProbability(0, 1)\n",
        "  beta_S = beta_T\n",
        "\n",
        "  meu_T = randProbability(0, beta_T)\n",
        "  meu_S = meu_T"
      ],
      "metadata": {
        "id": "Kc7JaCmlU5_i"
      },
      "execution_count": 36,
      "outputs": []
    },
    {
      "cell_type": "markdown",
      "source": [
        "# Calculating Propotion of Neighbors"
      ],
      "metadata": {
        "id": "DwwBetVhV9Pu"
      }
    },
    {
      "cell_type": "code",
      "source": [
        "def neighborPropotion():\n",
        "  print('Code goes here')             # Value of sigma_C_i\n",
        "neighborPropotion()"
      ],
      "metadata": {
        "colab": {
          "base_uri": "https://localhost:8080/"
        },
        "id": "hhGoJaSYV8uo",
        "outputId": "93f6a8f1-bcb7-4e78-ee19-0a03566dc774"
      },
      "execution_count": 37,
      "outputs": [
        {
          "output_type": "stream",
          "name": "stdout",
          "text": [
            "Code goes here\n"
          ]
        }
      ]
    },
    {
      "cell_type": "markdown",
      "source": [
        "# Susceptible-Infected-Susceptible (SIS) Model"
      ],
      "metadata": {
        "id": "lRHkDOvqQMDj"
      }
    },
    {
      "cell_type": "code",
      "source": [
        "def modelSIS():\n",
        "  print('Codes goes here')              # Codes goes here\n",
        "modelSIS()"
      ],
      "metadata": {
        "colab": {
          "base_uri": "https://localhost:8080/"
        },
        "id": "3HtIai12QItb",
        "outputId": "ef8f7230-5551-42a9-9d9e-7ef7d5aac77f"
      },
      "execution_count": 29,
      "outputs": [
        {
          "output_type": "stream",
          "name": "stdout",
          "text": [
            "Codes goes here\n"
          ]
        }
      ]
    },
    {
      "cell_type": "markdown",
      "source": [
        "# Voter Model"
      ],
      "metadata": {
        "id": "LedKutTHQy2q"
      }
    },
    {
      "cell_type": "code",
      "source": [
        "def modelVoter():\n",
        "  print('Codes goes here')              # Codes goes here\n",
        "modelVoter()"
      ],
      "metadata": {
        "colab": {
          "base_uri": "https://localhost:8080/"
        },
        "id": "vFr4wJ3NQnrp",
        "outputId": "41573535-89ce-488f-9967-bc19965a5f33"
      },
      "execution_count": 30,
      "outputs": [
        {
          "output_type": "stream",
          "name": "stdout",
          "text": [
            "Codes goes here\n"
          ]
        }
      ]
    },
    {
      "cell_type": "markdown",
      "source": [
        "# Bilingual Model"
      ],
      "metadata": {
        "id": "UtrmdgbjQ6s8"
      }
    },
    {
      "cell_type": "code",
      "source": [
        "def modelBilingual():\n",
        "  print('Codes goes here')              # Codes goes here\n",
        "modelBilingual()"
      ],
      "metadata": {
        "colab": {
          "base_uri": "https://localhost:8080/"
        },
        "id": "NGM3Q8QcQ5hW",
        "outputId": "db278d2a-1a6c-4ba7-97ac-71d3bf0c87f1"
      },
      "execution_count": 31,
      "outputs": [
        {
          "output_type": "stream",
          "name": "stdout",
          "text": [
            "Codes goes here\n"
          ]
        }
      ]
    },
    {
      "cell_type": "markdown",
      "source": [
        "# Behavior Spread"
      ],
      "metadata": {
        "id": "-wy2j0djSBs7"
      }
    },
    {
      "cell_type": "code",
      "source": [
        "def behaviorSpread():\n",
        "  epoch = 0\n",
        "  total_epoch = 1000\n",
        "  # Set all nodes ignorant\n",
        "  # Set one random node aware\n",
        "  while epoch < total_epoch:\n",
        "    epoch = epoch + 1\n",
        "    behaviorSpreadNeighbors()\n",
        "    behaviorSpreadMutate()\n",
        "    #for i in neutral_traders:\n",
        "      # Select a random neighbor j with probability proportional to in_degree.\n",
        "      #if i neutral & j not neutral:\n",
        "        # i can assume the state of j under the rules of the model\n",
        "      #elif i not neutral:\n",
        "          # set i neutral under the rules of the model"
      ],
      "metadata": {
        "id": "jeAcCxDeRDSW"
      },
      "execution_count": 34,
      "outputs": []
    },
    {
      "cell_type": "code",
      "source": [],
      "metadata": {
        "id": "2UnDpkRIUimo"
      },
      "execution_count": null,
      "outputs": []
    }
  ]
}